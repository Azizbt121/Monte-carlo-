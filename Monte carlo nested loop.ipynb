{
 "cells": [
  {
   "cell_type": "code",
   "execution_count": 1,
   "id": "ff93cff1",
   "metadata": {},
   "outputs": [],
   "source": [
    "import random\n",
    "\n",
    "def tirer_carte():\n",
    "    cartes = [2, 3, 4, 5, 6, 7, 8, 9, 10, 10, 10, 10, 11]  # Valeurs possibles des cartes\n",
    "    return random.choice(cartes)"
   ]
  },
  {
   "cell_type": "code",
   "execution_count": 2,
   "id": "646a1404",
   "metadata": {},
   "outputs": [],
   "source": [
    "def jouer_blackjack():\n",
    "    joueur = [tirer_carte(), tirer_carte()]\n",
    "    croupier = [tirer_carte(), tirer_carte()]\n",
    "    \n",
    "    while sum(joueur) < 21:\n",
    "        choix = input(\"Tirer une carte ? (o/n) : \").lower()\n",
    "        if choix == 'o':\n",
    "            joueur.append(tirer_carte())\n",
    "            print(\"Cartes du joueur :\", joueur)\n",
    "        else:\n",
    "            break\n",
    "    \n",
    "    while sum(croupier) < 17:\n",
    "        croupier.append(tirer_carte())\n",
    "    \n",
    "    print(\"Cartes du joueur :\", joueur)\n",
    "    print(\"Cartes du croupier :\", croupier)\n",
    "    \n",
    "    if sum(joueur) > 21:\n",
    "        return \"Le joueur a sauté (bust), le croupier gagne.\"\n",
    "    elif sum(croupier) > 21 or sum(joueur) > sum(croupier):\n",
    "        return \"Le joueur gagne !\"\n",
    "    elif sum(croupier) > sum(joueur):\n",
    "        return \"Le croupier gagne.\"\n",
    "    else:\n",
    "        return \"Égalité.\"\n"
   ]
  },
  {
   "cell_type": "code",
   "execution_count": 3,
   "id": "da3455fb",
   "metadata": {},
   "outputs": [],
   "source": [
    "def monte_carlo_blackjack(nombre_simulations):\n",
    "    victoires_joueur = 0\n",
    "    victoires_croupier = 0\n",
    "    egalites = 0\n",
    "    \n",
    "    for _ in range(nombre_simulations):\n",
    "        resultat = jouer_blackjack()\n",
    "        if resultat == \"Le joueur gagne !\":\n",
    "            victoires_joueur += 1\n",
    "        elif resultat == \"Le croupier gagne.\":\n",
    "            victoires_croupier += 1\n",
    "        else:\n",
    "            egalites += 1\n",
    "    \n",
    "    print(f\"Résultats après {nombre_simulations} simulations :\")\n",
    "    print(f\"Victoires du joueur : {victoires_joueur}\")\n",
    "    print(f\"Victoires du croupier : {victoires_croupier}\")\n",
    "    print(f\"Égalités : {egalites}\")"
   ]
  },
  {
   "cell_type": "code",
   "execution_count": 5,
   "id": "3bc2e0c6",
   "metadata": {},
   "outputs": [
    {
     "name": "stdout",
     "output_type": "stream",
     "text": [
      "Tirer une carte ? (o/n) : o\n",
      "Cartes du joueur : [6, 10, 10]\n",
      "Cartes du joueur : [6, 10, 10]\n",
      "Cartes du croupier : [3, 2, 8, 5]\n",
      "Tirer une carte ? (o/n) : o\n",
      "Cartes du joueur : [9, 5, 5]\n",
      "Tirer une carte ? (o/n) : o\n",
      "Cartes du joueur : [9, 5, 5, 6]\n",
      "Cartes du joueur : [9, 5, 5, 6]\n",
      "Cartes du croupier : [8, 10]\n",
      "Tirer une carte ? (o/n) : o\n",
      "Cartes du joueur : [7, 2, 10]\n",
      "Tirer une carte ? (o/n) : n\n",
      "Cartes du joueur : [7, 2, 10]\n",
      "Cartes du croupier : [9, 9]\n",
      "Tirer une carte ? (o/n) : n\n",
      "Cartes du joueur : [6, 9]\n",
      "Cartes du croupier : [8, 10]\n",
      "Cartes du joueur : [11, 11]\n",
      "Cartes du croupier : [4, 11, 10]\n",
      "Tirer une carte ? (o/n) : n\n",
      "Cartes du joueur : [3, 10]\n",
      "Cartes du croupier : [10, 4, 4]\n",
      "Tirer une carte ? (o/n) : o\n",
      "Cartes du joueur : [3, 3, 8]\n",
      "Tirer une carte ? (o/n) : \n",
      "Cartes du joueur : [3, 3, 8]\n",
      "Cartes du croupier : [8, 7, 10]\n",
      "Tirer une carte ? (o/n) : n\n",
      "Cartes du joueur : [9, 7]\n",
      "Cartes du croupier : [2, 5, 4, 11]\n",
      "Tirer une carte ? (o/n) : i\n",
      "Cartes du joueur : [5, 10]\n",
      "Cartes du croupier : [5, 10, 4]\n",
      "Tirer une carte ? (o/n) : o\n",
      "Cartes du joueur : [9, 6, 3]\n",
      "Tirer une carte ? (o/n) : n\n",
      "Cartes du joueur : [9, 6, 3]\n",
      "Cartes du croupier : [5, 10, 10]\n",
      "Résultats après 10 simulations :\n",
      "Victoires du joueur : 4\n",
      "Victoires du croupier : 3\n",
      "Égalités : 3\n"
     ]
    }
   ],
   "source": [
    "\n",
    "nombre_simulations = 10\n",
    "monte_carlo_blackjack(nombre_simulations)\n"
   ]
  },
  {
   "cell_type": "code",
   "execution_count": null,
   "id": "e054e55e",
   "metadata": {
    "collapsed": true
   },
   "outputs": [],
   "source": []
  },
  {
   "cell_type": "code",
   "execution_count": null,
   "id": "0d93f170",
   "metadata": {},
   "outputs": [],
   "source": []
  }
 ],
 "metadata": {
  "kernelspec": {
   "display_name": "Python 3 (ipykernel)",
   "language": "python",
   "name": "python3"
  },
  "language_info": {
   "codemirror_mode": {
    "name": "ipython",
    "version": 3
   },
   "file_extension": ".py",
   "mimetype": "text/x-python",
   "name": "python",
   "nbconvert_exporter": "python",
   "pygments_lexer": "ipython3",
   "version": "3.10.9"
  }
 },
 "nbformat": 4,
 "nbformat_minor": 5
}
